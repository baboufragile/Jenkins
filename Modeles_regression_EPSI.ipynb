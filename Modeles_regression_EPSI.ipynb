{
  "nbformat": 4,
  "nbformat_minor": 0,
  "metadata": {
    "colab": {
      "name": "Modeles_regression_EPSI.ipynb",
      "provenance": [],
      "collapsed_sections": [],
      "include_colab_link": true
    },
    "kernelspec": {
      "name": "python3",
      "display_name": "Python 3"
    },
    "language_info": {
      "name": "python"
    }
  },
  "cells": [
    {
      "cell_type": "markdown",
      "metadata": {
        "id": "view-in-github",
        "colab_type": "text"
      },
      "source": [
        "<a href=\"https://colab.research.google.com/github/baboufragile/Jenkins/blob/master/Modeles_regression_EPSI.ipynb\" target=\"_parent\"><img src=\"https://colab.research.google.com/assets/colab-badge.svg\" alt=\"Open In Colab\"/></a>"
      ]
    },
    {
      "cell_type": "code",
      "source": [
        "pip install pydataset"
      ],
      "metadata": {
        "id": "KLSK-q1gem0T",
        "colab": {
          "base_uri": "https://localhost:8080/"
        },
        "outputId": "7517b45d-a388-4a90-a9dd-ed39b3dd8aaa"
      },
      "execution_count": 6,
      "outputs": [
        {
          "output_type": "stream",
          "name": "stdout",
          "text": [
            "Collecting pydataset\n",
            "  Downloading pydataset-0.2.0.tar.gz (15.9 MB)\n",
            "\u001b[K     |████████████████████████████████| 15.9 MB 4.8 MB/s \n",
            "\u001b[?25hRequirement already satisfied: pandas in /usr/local/lib/python3.7/dist-packages (from pydataset) (1.3.5)\n",
            "Requirement already satisfied: numpy>=1.17.3 in /usr/local/lib/python3.7/dist-packages (from pandas->pydataset) (1.21.5)\n",
            "Requirement already satisfied: pytz>=2017.3 in /usr/local/lib/python3.7/dist-packages (from pandas->pydataset) (2018.9)\n",
            "Requirement already satisfied: python-dateutil>=2.7.3 in /usr/local/lib/python3.7/dist-packages (from pandas->pydataset) (2.8.2)\n",
            "Requirement already satisfied: six>=1.5 in /usr/local/lib/python3.7/dist-packages (from python-dateutil>=2.7.3->pandas->pydataset) (1.15.0)\n",
            "Building wheels for collected packages: pydataset\n",
            "  Building wheel for pydataset (setup.py) ... \u001b[?25l\u001b[?25hdone\n",
            "  Created wheel for pydataset: filename=pydataset-0.2.0-py3-none-any.whl size=15939432 sha256=d8b5d9618f9069639be86815e27d447d439d4f7c56f8060f1b7afc2711af0391\n",
            "  Stored in directory: /root/.cache/pip/wheels/32/26/30/d71562a19eed948eaada9a61b4d722fa358657a3bfb5d151e2\n",
            "Successfully built pydataset\n",
            "Installing collected packages: pydataset\n",
            "Successfully installed pydataset-0.2.0\n"
          ]
        }
      ]
    },
    {
      "cell_type": "code",
      "source": [
        "import pandas as pd\n",
        "import numpy as np\n",
        "from pydataset import data\n",
        "from sklearn import datasets\n",
        "\n",
        "import statsmodels.formula.api as smf\n",
        "import statsmodels.api as sm"
      ],
      "metadata": {
        "id": "mp1gYUxFtQol",
        "colab": {
          "base_uri": "https://localhost:8080/"
        },
        "outputId": "8baa401b-6b25-4112-803f-c880dd506d20"
      },
      "execution_count": null,
      "outputs": [
        {
          "output_type": "stream",
          "name": "stdout",
          "text": [
            "initiated datasets repo at: /root/.pydataset/\n"
          ]
        },
        {
          "output_type": "stream",
          "name": "stderr",
          "text": [
            "/usr/local/lib/python3.7/dist-packages/statsmodels/tools/_testing.py:19: FutureWarning: pandas.util.testing is deprecated. Use the functions in the public API at pandas.testing instead.\n",
            "  import pandas.util.testing as tm\n"
          ]
        }
      ]
    },
    {
      "cell_type": "markdown",
      "source": [
        "## Exemple cours : Prédiction du sentiment de bien-être"
      ],
      "metadata": {
        "id": "9ZDk-0SRPkrv"
      }
    },
    {
      "cell_type": "markdown",
      "source": [
        "Un des objectifs de l'étude dont est tiré cet exemple était de prédire le\n",
        "sentiment de bien-être (mesuré par un score) sept ans après avoir quitte\n",
        "l'Université, à partir de variables mesurées lorsque l'étudiant se trouvait à l'Université. Les données sont résumées dans le tableau ci-dessous."
      ],
      "metadata": {
        "id": "nSKE75cYP4fk"
      }
    },
    {
      "cell_type": "code",
      "execution_count": null,
      "metadata": {
        "id": "bSXv7G0apcgG",
        "colab": {
          "base_uri": "https://localhost:8080/",
          "height": 363
        },
        "outputId": "c1fc5707-de34-4b4d-da34-c3c7f2c3e2b8"
      },
      "outputs": [
        {
          "output_type": "execute_result",
          "data": {
            "text/plain": [
              "   NbEnfU  BEU  NSE  BE\n",
              "0       2   17   52  21\n",
              "1       2   20   56  26\n",
              "2       0   21   27  37\n",
              "3       0   18   34  40\n",
              "4       0   31   29  35\n",
              "5       1   34   38  37\n",
              "6       0   20   38  35\n",
              "7       0   17   25  26\n",
              "8       2   48   53  42\n",
              "9       0   16   36  38"
            ],
            "text/html": [
              "\n",
              "  <div id=\"df-57f673e8-16d9-40e1-9a26-a31b36793d34\">\n",
              "    <div class=\"colab-df-container\">\n",
              "      <div>\n",
              "<style scoped>\n",
              "    .dataframe tbody tr th:only-of-type {\n",
              "        vertical-align: middle;\n",
              "    }\n",
              "\n",
              "    .dataframe tbody tr th {\n",
              "        vertical-align: top;\n",
              "    }\n",
              "\n",
              "    .dataframe thead th {\n",
              "        text-align: right;\n",
              "    }\n",
              "</style>\n",
              "<table border=\"1\" class=\"dataframe\">\n",
              "  <thead>\n",
              "    <tr style=\"text-align: right;\">\n",
              "      <th></th>\n",
              "      <th>NbEnfU</th>\n",
              "      <th>BEU</th>\n",
              "      <th>NSE</th>\n",
              "      <th>BE</th>\n",
              "    </tr>\n",
              "  </thead>\n",
              "  <tbody>\n",
              "    <tr>\n",
              "      <th>0</th>\n",
              "      <td>2</td>\n",
              "      <td>17</td>\n",
              "      <td>52</td>\n",
              "      <td>21</td>\n",
              "    </tr>\n",
              "    <tr>\n",
              "      <th>1</th>\n",
              "      <td>2</td>\n",
              "      <td>20</td>\n",
              "      <td>56</td>\n",
              "      <td>26</td>\n",
              "    </tr>\n",
              "    <tr>\n",
              "      <th>2</th>\n",
              "      <td>0</td>\n",
              "      <td>21</td>\n",
              "      <td>27</td>\n",
              "      <td>37</td>\n",
              "    </tr>\n",
              "    <tr>\n",
              "      <th>3</th>\n",
              "      <td>0</td>\n",
              "      <td>18</td>\n",
              "      <td>34</td>\n",
              "      <td>40</td>\n",
              "    </tr>\n",
              "    <tr>\n",
              "      <th>4</th>\n",
              "      <td>0</td>\n",
              "      <td>31</td>\n",
              "      <td>29</td>\n",
              "      <td>35</td>\n",
              "    </tr>\n",
              "    <tr>\n",
              "      <th>5</th>\n",
              "      <td>1</td>\n",
              "      <td>34</td>\n",
              "      <td>38</td>\n",
              "      <td>37</td>\n",
              "    </tr>\n",
              "    <tr>\n",
              "      <th>6</th>\n",
              "      <td>0</td>\n",
              "      <td>20</td>\n",
              "      <td>38</td>\n",
              "      <td>35</td>\n",
              "    </tr>\n",
              "    <tr>\n",
              "      <th>7</th>\n",
              "      <td>0</td>\n",
              "      <td>17</td>\n",
              "      <td>25</td>\n",
              "      <td>26</td>\n",
              "    </tr>\n",
              "    <tr>\n",
              "      <th>8</th>\n",
              "      <td>2</td>\n",
              "      <td>48</td>\n",
              "      <td>53</td>\n",
              "      <td>42</td>\n",
              "    </tr>\n",
              "    <tr>\n",
              "      <th>9</th>\n",
              "      <td>0</td>\n",
              "      <td>16</td>\n",
              "      <td>36</td>\n",
              "      <td>38</td>\n",
              "    </tr>\n",
              "  </tbody>\n",
              "</table>\n",
              "</div>\n",
              "      <button class=\"colab-df-convert\" onclick=\"convertToInteractive('df-57f673e8-16d9-40e1-9a26-a31b36793d34')\"\n",
              "              title=\"Convert this dataframe to an interactive table.\"\n",
              "              style=\"display:none;\">\n",
              "        \n",
              "  <svg xmlns=\"http://www.w3.org/2000/svg\" height=\"24px\"viewBox=\"0 0 24 24\"\n",
              "       width=\"24px\">\n",
              "    <path d=\"M0 0h24v24H0V0z\" fill=\"none\"/>\n",
              "    <path d=\"M18.56 5.44l.94 2.06.94-2.06 2.06-.94-2.06-.94-.94-2.06-.94 2.06-2.06.94zm-11 1L8.5 8.5l.94-2.06 2.06-.94-2.06-.94L8.5 2.5l-.94 2.06-2.06.94zm10 10l.94 2.06.94-2.06 2.06-.94-2.06-.94-.94-2.06-.94 2.06-2.06.94z\"/><path d=\"M17.41 7.96l-1.37-1.37c-.4-.4-.92-.59-1.43-.59-.52 0-1.04.2-1.43.59L10.3 9.45l-7.72 7.72c-.78.78-.78 2.05 0 2.83L4 21.41c.39.39.9.59 1.41.59.51 0 1.02-.2 1.41-.59l7.78-7.78 2.81-2.81c.8-.78.8-2.07 0-2.86zM5.41 20L4 18.59l7.72-7.72 1.47 1.35L5.41 20z\"/>\n",
              "  </svg>\n",
              "      </button>\n",
              "      \n",
              "  <style>\n",
              "    .colab-df-container {\n",
              "      display:flex;\n",
              "      flex-wrap:wrap;\n",
              "      gap: 12px;\n",
              "    }\n",
              "\n",
              "    .colab-df-convert {\n",
              "      background-color: #E8F0FE;\n",
              "      border: none;\n",
              "      border-radius: 50%;\n",
              "      cursor: pointer;\n",
              "      display: none;\n",
              "      fill: #1967D2;\n",
              "      height: 32px;\n",
              "      padding: 0 0 0 0;\n",
              "      width: 32px;\n",
              "    }\n",
              "\n",
              "    .colab-df-convert:hover {\n",
              "      background-color: #E2EBFA;\n",
              "      box-shadow: 0px 1px 2px rgba(60, 64, 67, 0.3), 0px 1px 3px 1px rgba(60, 64, 67, 0.15);\n",
              "      fill: #174EA6;\n",
              "    }\n",
              "\n",
              "    [theme=dark] .colab-df-convert {\n",
              "      background-color: #3B4455;\n",
              "      fill: #D2E3FC;\n",
              "    }\n",
              "\n",
              "    [theme=dark] .colab-df-convert:hover {\n",
              "      background-color: #434B5C;\n",
              "      box-shadow: 0px 1px 3px 1px rgba(0, 0, 0, 0.15);\n",
              "      filter: drop-shadow(0px 1px 2px rgba(0, 0, 0, 0.3));\n",
              "      fill: #FFFFFF;\n",
              "    }\n",
              "  </style>\n",
              "\n",
              "      <script>\n",
              "        const buttonEl =\n",
              "          document.querySelector('#df-57f673e8-16d9-40e1-9a26-a31b36793d34 button.colab-df-convert');\n",
              "        buttonEl.style.display =\n",
              "          google.colab.kernel.accessAllowed ? 'block' : 'none';\n",
              "\n",
              "        async function convertToInteractive(key) {\n",
              "          const element = document.querySelector('#df-57f673e8-16d9-40e1-9a26-a31b36793d34');\n",
              "          const dataTable =\n",
              "            await google.colab.kernel.invokeFunction('convertToInteractive',\n",
              "                                                     [key], {});\n",
              "          if (!dataTable) return;\n",
              "\n",
              "          const docLinkHtml = 'Like what you see? Visit the ' +\n",
              "            '<a target=\"_blank\" href=https://colab.research.google.com/notebooks/data_table.ipynb>data table notebook</a>'\n",
              "            + ' to learn more about interactive tables.';\n",
              "          element.innerHTML = '';\n",
              "          dataTable['output_type'] = 'display_data';\n",
              "          await google.colab.output.renderOutput(dataTable, element);\n",
              "          const docLink = document.createElement('div');\n",
              "          docLink.innerHTML = docLinkHtml;\n",
              "          element.appendChild(docLink);\n",
              "        }\n",
              "      </script>\n",
              "    </div>\n",
              "  </div>\n",
              "  "
            ]
          },
          "metadata": {},
          "execution_count": 4
        }
      ],
      "source": [
        "NbEnfU = [2,2,0,0,0,1,0,0,2,0]\n",
        "BEU = [17,20,21,18,31,34,20,17,48,16]\n",
        "NSE = [52,56,27,34,29,38,38,25,53,36]\n",
        "BE = [21,26,37,40,35,37,35,26,42,38]\n",
        "\n",
        "df = pd.DataFrame({'NbEnfU': NbEnfU, 'BEU': BEU, 'NSE': NSE, 'BE': BE})\n",
        "\n",
        "df"
      ]
    },
    {
      "cell_type": "markdown",
      "source": [
        "La variable à expliquer est le sentiment de bien-être (variable notée\n",
        "\"BE),\n",
        "mesuré par un score, et les variables explicatives sont : le nombre d'enfants\n",
        "lors de la scolarité à l'Université (\"NbEnfU\"), le sentiment de bien-être\n",
        "mesuré au cours de la scolarité à l'Université (\"BEU) et le niveau\n",
        "socio-économique des parents (\"NSE'), également mesuré par un score.\n",
        "D'après le tableau des données, on a donc"
      ],
      "metadata": {
        "id": "_LOWW09hQOCL"
      }
    },
    {
      "cell_type": "code",
      "source": [
        "#Ecrire le nombre d'individus et les matrices Y et X\n",
        "nbr_indiv = 10\n",
        "X = pd.DataFrame({'Intercept':np.ones(10), 'NbEnfU': NbEnfU, 'BEU': BEU, 'NSE': NSE})\n",
        "Y = BE"
      ],
      "metadata": {
        "id": "Z6jKJ5bgQZvP"
      },
      "execution_count": null,
      "outputs": []
    },
    {
      "cell_type": "code",
      "source": [
        "X"
      ],
      "metadata": {
        "colab": {
          "base_uri": "https://localhost:8080/",
          "height": 363
        },
        "id": "05qGO5AvwWIs",
        "outputId": "ee8c02a5-3dfa-488c-9a89-88e43e30be6d"
      },
      "execution_count": null,
      "outputs": [
        {
          "output_type": "execute_result",
          "data": {
            "text/plain": [
              "   Intercept  NbEnfU  BEU  NSE\n",
              "0        1.0       2   17   52\n",
              "1        1.0       2   20   56\n",
              "2        1.0       0   21   27\n",
              "3        1.0       0   18   34\n",
              "4        1.0       0   31   29\n",
              "5        1.0       1   34   38\n",
              "6        1.0       0   20   38\n",
              "7        1.0       0   17   25\n",
              "8        1.0       2   48   53\n",
              "9        1.0       0   16   36"
            ],
            "text/html": [
              "\n",
              "  <div id=\"df-8b2907e9-40f1-4341-a88b-fe73719c9d00\">\n",
              "    <div class=\"colab-df-container\">\n",
              "      <div>\n",
              "<style scoped>\n",
              "    .dataframe tbody tr th:only-of-type {\n",
              "        vertical-align: middle;\n",
              "    }\n",
              "\n",
              "    .dataframe tbody tr th {\n",
              "        vertical-align: top;\n",
              "    }\n",
              "\n",
              "    .dataframe thead th {\n",
              "        text-align: right;\n",
              "    }\n",
              "</style>\n",
              "<table border=\"1\" class=\"dataframe\">\n",
              "  <thead>\n",
              "    <tr style=\"text-align: right;\">\n",
              "      <th></th>\n",
              "      <th>Intercept</th>\n",
              "      <th>NbEnfU</th>\n",
              "      <th>BEU</th>\n",
              "      <th>NSE</th>\n",
              "    </tr>\n",
              "  </thead>\n",
              "  <tbody>\n",
              "    <tr>\n",
              "      <th>0</th>\n",
              "      <td>1.0</td>\n",
              "      <td>2</td>\n",
              "      <td>17</td>\n",
              "      <td>52</td>\n",
              "    </tr>\n",
              "    <tr>\n",
              "      <th>1</th>\n",
              "      <td>1.0</td>\n",
              "      <td>2</td>\n",
              "      <td>20</td>\n",
              "      <td>56</td>\n",
              "    </tr>\n",
              "    <tr>\n",
              "      <th>2</th>\n",
              "      <td>1.0</td>\n",
              "      <td>0</td>\n",
              "      <td>21</td>\n",
              "      <td>27</td>\n",
              "    </tr>\n",
              "    <tr>\n",
              "      <th>3</th>\n",
              "      <td>1.0</td>\n",
              "      <td>0</td>\n",
              "      <td>18</td>\n",
              "      <td>34</td>\n",
              "    </tr>\n",
              "    <tr>\n",
              "      <th>4</th>\n",
              "      <td>1.0</td>\n",
              "      <td>0</td>\n",
              "      <td>31</td>\n",
              "      <td>29</td>\n",
              "    </tr>\n",
              "    <tr>\n",
              "      <th>5</th>\n",
              "      <td>1.0</td>\n",
              "      <td>1</td>\n",
              "      <td>34</td>\n",
              "      <td>38</td>\n",
              "    </tr>\n",
              "    <tr>\n",
              "      <th>6</th>\n",
              "      <td>1.0</td>\n",
              "      <td>0</td>\n",
              "      <td>20</td>\n",
              "      <td>38</td>\n",
              "    </tr>\n",
              "    <tr>\n",
              "      <th>7</th>\n",
              "      <td>1.0</td>\n",
              "      <td>0</td>\n",
              "      <td>17</td>\n",
              "      <td>25</td>\n",
              "    </tr>\n",
              "    <tr>\n",
              "      <th>8</th>\n",
              "      <td>1.0</td>\n",
              "      <td>2</td>\n",
              "      <td>48</td>\n",
              "      <td>53</td>\n",
              "    </tr>\n",
              "    <tr>\n",
              "      <th>9</th>\n",
              "      <td>1.0</td>\n",
              "      <td>0</td>\n",
              "      <td>16</td>\n",
              "      <td>36</td>\n",
              "    </tr>\n",
              "  </tbody>\n",
              "</table>\n",
              "</div>\n",
              "      <button class=\"colab-df-convert\" onclick=\"convertToInteractive('df-8b2907e9-40f1-4341-a88b-fe73719c9d00')\"\n",
              "              title=\"Convert this dataframe to an interactive table.\"\n",
              "              style=\"display:none;\">\n",
              "        \n",
              "  <svg xmlns=\"http://www.w3.org/2000/svg\" height=\"24px\"viewBox=\"0 0 24 24\"\n",
              "       width=\"24px\">\n",
              "    <path d=\"M0 0h24v24H0V0z\" fill=\"none\"/>\n",
              "    <path d=\"M18.56 5.44l.94 2.06.94-2.06 2.06-.94-2.06-.94-.94-2.06-.94 2.06-2.06.94zm-11 1L8.5 8.5l.94-2.06 2.06-.94-2.06-.94L8.5 2.5l-.94 2.06-2.06.94zm10 10l.94 2.06.94-2.06 2.06-.94-2.06-.94-.94-2.06-.94 2.06-2.06.94z\"/><path d=\"M17.41 7.96l-1.37-1.37c-.4-.4-.92-.59-1.43-.59-.52 0-1.04.2-1.43.59L10.3 9.45l-7.72 7.72c-.78.78-.78 2.05 0 2.83L4 21.41c.39.39.9.59 1.41.59.51 0 1.02-.2 1.41-.59l7.78-7.78 2.81-2.81c.8-.78.8-2.07 0-2.86zM5.41 20L4 18.59l7.72-7.72 1.47 1.35L5.41 20z\"/>\n",
              "  </svg>\n",
              "      </button>\n",
              "      \n",
              "  <style>\n",
              "    .colab-df-container {\n",
              "      display:flex;\n",
              "      flex-wrap:wrap;\n",
              "      gap: 12px;\n",
              "    }\n",
              "\n",
              "    .colab-df-convert {\n",
              "      background-color: #E8F0FE;\n",
              "      border: none;\n",
              "      border-radius: 50%;\n",
              "      cursor: pointer;\n",
              "      display: none;\n",
              "      fill: #1967D2;\n",
              "      height: 32px;\n",
              "      padding: 0 0 0 0;\n",
              "      width: 32px;\n",
              "    }\n",
              "\n",
              "    .colab-df-convert:hover {\n",
              "      background-color: #E2EBFA;\n",
              "      box-shadow: 0px 1px 2px rgba(60, 64, 67, 0.3), 0px 1px 3px 1px rgba(60, 64, 67, 0.15);\n",
              "      fill: #174EA6;\n",
              "    }\n",
              "\n",
              "    [theme=dark] .colab-df-convert {\n",
              "      background-color: #3B4455;\n",
              "      fill: #D2E3FC;\n",
              "    }\n",
              "\n",
              "    [theme=dark] .colab-df-convert:hover {\n",
              "      background-color: #434B5C;\n",
              "      box-shadow: 0px 1px 3px 1px rgba(0, 0, 0, 0.15);\n",
              "      filter: drop-shadow(0px 1px 2px rgba(0, 0, 0, 0.3));\n",
              "      fill: #FFFFFF;\n",
              "    }\n",
              "  </style>\n",
              "\n",
              "      <script>\n",
              "        const buttonEl =\n",
              "          document.querySelector('#df-8b2907e9-40f1-4341-a88b-fe73719c9d00 button.colab-df-convert');\n",
              "        buttonEl.style.display =\n",
              "          google.colab.kernel.accessAllowed ? 'block' : 'none';\n",
              "\n",
              "        async function convertToInteractive(key) {\n",
              "          const element = document.querySelector('#df-8b2907e9-40f1-4341-a88b-fe73719c9d00');\n",
              "          const dataTable =\n",
              "            await google.colab.kernel.invokeFunction('convertToInteractive',\n",
              "                                                     [key], {});\n",
              "          if (!dataTable) return;\n",
              "\n",
              "          const docLinkHtml = 'Like what you see? Visit the ' +\n",
              "            '<a target=\"_blank\" href=https://colab.research.google.com/notebooks/data_table.ipynb>data table notebook</a>'\n",
              "            + ' to learn more about interactive tables.';\n",
              "          element.innerHTML = '';\n",
              "          dataTable['output_type'] = 'display_data';\n",
              "          await google.colab.output.renderOutput(dataTable, element);\n",
              "          const docLink = document.createElement('div');\n",
              "          docLink.innerHTML = docLinkHtml;\n",
              "          element.appendChild(docLink);\n",
              "        }\n",
              "      </script>\n",
              "    </div>\n",
              "  </div>\n",
              "  "
            ]
          },
          "metadata": {},
          "execution_count": 6
        }
      ]
    },
    {
      "cell_type": "code",
      "source": [
        "#régression lineaire\n",
        "import statsmodels.formula.api as smf"
      ],
      "metadata": {
        "id": "y4xG_-kstaA8"
      },
      "execution_count": null,
      "outputs": []
    },
    {
      "cell_type": "code",
      "source": [
        "#instanciation\n",
        "# OLS = Ordinary Least Squares\n",
        "reg = smf.ols('BE ~ NbEnfU + BEU + NSE', data = df)"
      ],
      "metadata": {
        "id": "9gbkWpbJubjr"
      },
      "execution_count": null,
      "outputs": []
    },
    {
      "cell_type": "code",
      "source": [
        "#lancement des calculs (apprentissage)\n",
        "res = reg.fit()"
      ],
      "metadata": {
        "id": "4zcVh3aluur0"
      },
      "execution_count": null,
      "outputs": []
    },
    {
      "cell_type": "code",
      "source": [
        "#résultats détaillés\n",
        "print(res.summary())"
      ],
      "metadata": {
        "id": "dhudCrUcvbcI",
        "colab": {
          "base_uri": "https://localhost:8080/"
        },
        "outputId": "43075998-1ba4-443e-cce7-f1d07d2a3b9f"
      },
      "execution_count": null,
      "outputs": [
        {
          "output_type": "stream",
          "name": "stdout",
          "text": [
            "                            OLS Regression Results                            \n",
            "==============================================================================\n",
            "Dep. Variable:                     BE   R-squared:                       0.766\n",
            "Model:                            OLS   Adj. R-squared:                  0.648\n",
            "Method:                 Least Squares   F-statistic:                     6.530\n",
            "Date:                Tue, 12 Apr 2022   Prob (F-statistic):             0.0256\n",
            "Time:                        07:54:24   Log-Likelihood:                -25.767\n",
            "No. Observations:                  10   AIC:                             59.53\n",
            "Df Residuals:                       6   BIC:                             60.75\n",
            "Df Model:                           3                                         \n",
            "Covariance Type:            nonrobust                                         \n",
            "==============================================================================\n",
            "                 coef    std err          t      P>|t|      [0.025      0.975]\n",
            "------------------------------------------------------------------------------\n",
            "Intercept      3.2195     11.563      0.278      0.790     -25.074      31.513\n",
            "NbEnfU       -12.0562      4.066     -2.965      0.025     -22.005      -2.107\n",
            "BEU            0.5803      0.148      3.915      0.008       0.218       0.943\n",
            "NSE            0.6411      0.330      1.944      0.100      -0.166       1.448\n",
            "==============================================================================\n",
            "Omnibus:                        1.384   Durbin-Watson:                   2.075\n",
            "Prob(Omnibus):                  0.501   Jarque-Bera (JB):                0.718\n",
            "Skew:                          -0.076   Prob(JB):                        0.699\n",
            "Kurtosis:                       1.697   Cond. No.                         441.\n",
            "==============================================================================\n",
            "\n",
            "Warnings:\n",
            "[1] Standard Errors assume that the covariance matrix of the errors is correctly specified.\n"
          ]
        },
        {
          "output_type": "stream",
          "name": "stderr",
          "text": [
            "/usr/local/lib/python3.7/dist-packages/scipy/stats/stats.py:1535: UserWarning: kurtosistest only valid for n>=20 ... continuing anyway, n=10\n",
            "  \"anyway, n=%i\" % int(n))\n"
          ]
        }
      ]
    },
    {
      "cell_type": "code",
      "source": [
        "#paramètres estimés Beta chap\n",
        "print('paramètres :\\n',res.params,'\\n')\n",
        "#degrés de liberté du modèle\n",
        "print('degrés de liberté :\\n',res.df_model,'\\n')"
      ],
      "metadata": {
        "id": "SPs0SOR9vf34",
        "colab": {
          "base_uri": "https://localhost:8080/"
        },
        "outputId": "70ba3ed5-81eb-42b2-c8f9-49c497e8647a"
      },
      "execution_count": null,
      "outputs": [
        {
          "output_type": "stream",
          "name": "stdout",
          "text": [
            "paramètres :\n",
            " Intercept     3.219481\n",
            "NbEnfU      -12.056239\n",
            "BEU           0.580325\n",
            "NSE           0.641134\n",
            "dtype: float64 \n",
            "\n",
            "degrés de liberté :\n",
            " 3.0 \n",
            "\n"
          ]
        }
      ]
    },
    {
      "cell_type": "code",
      "source": [
        "# Ecrire l'equation de regression\n",
        "x1, x2, x3 = 0, 0, 0 \n",
        "beta = res.params\n",
        "y = beta[0]+beta[1]*x1+beta[2]*x2+beta[3]*x3"
      ],
      "metadata": {
        "id": "z_Sip2QdS6Kk"
      },
      "execution_count": null,
      "outputs": []
    },
    {
      "cell_type": "code",
      "source": [
        "y"
      ],
      "metadata": {
        "colab": {
          "base_uri": "https://localhost:8080/"
        },
        "id": "cY0ybsGl5ZGA",
        "outputId": "965bbb97-f00a-4843-b035-06fd3521e726"
      },
      "execution_count": null,
      "outputs": [
        {
          "output_type": "execute_result",
          "data": {
            "text/plain": [
              "3.219480556813032"
            ]
          },
          "metadata": {},
          "execution_count": 14
        }
      ]
    },
    {
      "cell_type": "markdown",
      "source": [
        "A partir de cette équation, nous pouvons prédire le score de bien-être.\n",
        "Considérons, par exemple, un ancien étudiant ayant eu, durant sa scolarité\n",
        "à l'Université, 1 enfant, un score de bien-être de 30 et dont le niveau \n",
        "socio-économique des parents est égal à 50."
      ],
      "metadata": {
        "id": "t-SrOqs6TBvZ"
      }
    },
    {
      "cell_type": "code",
      "source": [
        "# Ecrire le calcul\n",
        "x1, x2, x3 = 1,30,50\n",
        "y = beta[0]+beta[1]*x1+beta[2]*x2+beta[3]*x3\n",
        "y\n",
        "#res.params[0]+res.params[1]*1+res.params[2]*30+res.params[3]*50"
      ],
      "metadata": {
        "id": "1RVBi7lGS-0u",
        "colab": {
          "base_uri": "https://localhost:8080/"
        },
        "outputId": "58a3e63f-2c66-4198-eadd-cd5dc8d2920a"
      },
      "execution_count": null,
      "outputs": [
        {
          "output_type": "execute_result",
          "data": {
            "text/plain": [
              "40.6297201367916"
            ]
          },
          "metadata": {},
          "execution_count": 17
        }
      ]
    },
    {
      "cell_type": "code",
      "source": [
        "# permet d’extraire les valeurs prédites pour Y.\n",
        "Y_chap = res.fittedvalues # OU res.predict()\n",
        "print(Y_chap)"
      ],
      "metadata": {
        "id": "q_KzWVmjI0yA",
        "colab": {
          "base_uri": "https://localhost:8080/"
        },
        "outputId": "5ca5871d-02c3-4dda-a176-cd0f51f55c41"
      },
      "execution_count": null,
      "outputs": [
        {
          "output_type": "stream",
          "name": "stdout",
          "text": [
            "0    22.311520\n",
            "1    26.617033\n",
            "2    32.716941\n",
            "3    35.463905\n",
            "4    39.802464\n",
            "5    35.257410\n",
            "6    39.189093\n",
            "7    29.113370\n",
            "8    40.942742\n",
            "9    35.585522\n",
            "dtype: float64\n"
          ]
        }
      ]
    },
    {
      "cell_type": "code",
      "source": [
        "# calcul du vecteur Epsilon\n",
        "# valeurs réelles - valeurs prédites\n",
        "Y = df['BE']\n",
        "eps = Y-Y_chap\n",
        "print(eps)"
      ],
      "metadata": {
        "id": "FO3PrQa7N1vv",
        "colab": {
          "base_uri": "https://localhost:8080/"
        },
        "outputId": "033bcc9d-1ad6-4b98-e8ba-9060400db8a2"
      },
      "execution_count": null,
      "outputs": [
        {
          "output_type": "stream",
          "name": "stdout",
          "text": [
            "0   -1.311520\n",
            "1   -0.617033\n",
            "2    4.283059\n",
            "3    4.536095\n",
            "4   -4.802464\n",
            "5    1.742590\n",
            "6   -4.189093\n",
            "7   -3.113370\n",
            "8    1.057258\n",
            "9    2.414478\n",
            "dtype: float64\n"
          ]
        }
      ]
    },
    {
      "cell_type": "code",
      "source": [
        "import statsmodels.api as sm\n",
        "fig = sm.graphics.plot_partregress_grid(res)\n",
        "# ou fig = sm.graphics.plot_ccpr(res, \"BEU\") si on souhaite en obsever un en particulier"
      ],
      "metadata": {
        "id": "ALdkrNAdx27N",
        "colab": {
          "base_uri": "https://localhost:8080/",
          "height": 302
        },
        "outputId": "669f373c-6b4b-48e4-8142-056328807a84"
      },
      "execution_count": null,
      "outputs": [
        {
          "output_type": "display_data",
          "data": {
            "text/plain": [
              "<Figure size 432x288 with 4 Axes>"
            ],
            "image/png": "[encoded data removed]"
          },
          "metadata": {
            "needs_background": "light"
          }
        }
      ]
    },
    {
      "cell_type": "code",
      "source": [
        "#SCR\n",
        "print('SCR :',res.ssr,'\\n')\n",
        "#SCE\n",
        "print('SCE :',res.ess,'\\n')\n",
        "#SCT\n",
        "print('SCT :',res.centered_tss,'\\n')\n",
        "#le R2\n",
        "print('R2 :',res.rsquared,'\\n')\n",
        "#le R2 ajusté\n",
        "print('R2 ajusté :',res.rsquared_adj,'\\n')\n",
        "# SCR divisé par le nombre de degrés de liberté des résidus.\n",
        "print('mse_resid :',res.mse_resid,'\\n')\n",
        "# SCT divisé par somme des degrés de liberté des paramètres et des résidus\n",
        "print('mse_total :',res.mse_total,'\\n')\n",
        "#calcul manuel de la statistique F à partir des carrés moyens\n",
        "F = res.mse_model / res.mse_resid\n",
        "print('calcul manuel du F :',F,'\\n')\n",
        "#la statistique F fourni par l'objet res\n",
        "print('F fourni :',res.fvalue)"
      ],
      "metadata": {
        "id": "-3nPh9KrULiW",
        "colab": {
          "base_uri": "https://localhost:8080/"
        },
        "outputId": "b89a27d6-7a0f-4c66-db1b-3ac0bbb92d63"
      },
      "execution_count": null,
      "outputs": [
        {
          "output_type": "stream",
          "name": "stdout",
          "text": [
            "SCR : 101.31091725226275 \n",
            "\n",
            "SCE : 330.7890827477372 \n",
            "\n",
            "SCT : 432.09999999999997 \n",
            "\n",
            "R2 : 0.7655382613925878 \n",
            "\n",
            "R2 ajusté : 0.6483073920888818 \n",
            "\n",
            "mse_resid : 16.885152875377127 \n",
            "\n",
            "mse_total : 48.011111111111106 \n",
            "\n",
            "calcul manuel du F : 6.530176445329718 \n",
            "\n",
            "F fourni : 6.530176445329718\n"
          ]
        }
      ]
    },
    {
      "cell_type": "markdown",
      "source": [
        "## Exercices"
      ],
      "metadata": {
        "id": "wSsrX0r2P0HQ"
      }
    },
    {
      "cell_type": "markdown",
      "source": [
        "#### Exercice 1"
      ],
      "metadata": {
        "id": "wf_ZbqpEdxK5"
      }
    },
    {
      "cell_type": "markdown",
      "source": [
        "Appliquez une régression linéaire sur la dataset « iris » dans le but de prévoir la largeur d’un iris.\n",
        "<br>\n",
        "Attention a la nature des variables."
      ],
      "metadata": {
        "id": "g1WntB8JefTJ"
      }
    },
    {
      "cell_type": "code",
      "source": [
        "from pydataset import data\n",
        "iris = data('iris')\n",
        "col = iris['Petal.Width']\n",
        "print(iris.head(5),'\\n\\n', len(iris))\n"
      ],
      "metadata": {
        "id": "BLQkZp5w4Whe",
        "colab": {
          "base_uri": "https://localhost:8080/"
        },
        "outputId": "819ba554-f03a-4e10-8741-aa64113843ba"
      },
      "execution_count": 24,
      "outputs": [
        {
          "output_type": "stream",
          "name": "stdout",
          "text": [
            "   Sepal.Length  Sepal.Width  Petal.Length  Petal.Width Species\n",
            "1           5.1          3.5           1.4          0.2  setosa\n",
            "2           4.9          3.0           1.4          0.2  setosa\n",
            "3           4.7          3.2           1.3          0.2  setosa\n",
            "4           4.6          3.1           1.5          0.2  setosa\n",
            "5           5.0          3.6           1.4          0.2  setosa \n",
            "\n",
            " 150\n"
          ]
        }
      ]
    },
    {
      "cell_type": "code",
      "source": [
        "# on renomme les régresseurs pour qu'il n'y est plus les points\n",
        "sepalLength = iris['Sepal.Length']\n",
        "sepalWidth"
      ],
      "metadata": {
        "id": "UQvsJSgu4zB9"
      },
      "execution_count": 25,
      "outputs": []
    },
    {
      "cell_type": "code",
      "source": [
        "#Matrices Y et X"
      ],
      "metadata": {
        "id": "hmQBXEBnnum1"
      },
      "execution_count": null,
      "outputs": []
    },
    {
      "cell_type": "code",
      "source": [
        "#instanciation"
      ],
      "metadata": {
        "id": "qi7SvY-jzgIK"
      },
      "execution_count": null,
      "outputs": []
    },
    {
      "cell_type": "code",
      "source": [
        "#apprentissage"
      ],
      "metadata": {
        "id": "zwvt5SNxzk-5"
      },
      "execution_count": null,
      "outputs": []
    },
    {
      "cell_type": "code",
      "source": [
        "#resultats"
      ],
      "metadata": {
        "id": "LjR8tk004brn"
      },
      "execution_count": null,
      "outputs": []
    },
    {
      "cell_type": "code",
      "source": [
        "#Afficher les betas"
      ],
      "metadata": {
        "id": "Kqnm0j-F8hX1"
      },
      "execution_count": null,
      "outputs": []
    },
    {
      "cell_type": "code",
      "source": [
        "# Afficher Eps"
      ],
      "metadata": {
        "id": "gqmUJhjY-pa6"
      },
      "execution_count": null,
      "outputs": []
    },
    {
      "cell_type": "code",
      "source": [
        "#Equation de regression"
      ],
      "metadata": {
        "id": "J6DIcEw44ewo"
      },
      "execution_count": null,
      "outputs": []
    },
    {
      "cell_type": "code",
      "source": [
        "#Equation de regression\n",
        "S_L, S_W, P_W = 4.6,5.1,0.1\n"
      ],
      "metadata": {
        "id": "ib2MPzmwB1JP"
      },
      "execution_count": null,
      "outputs": []
    },
    {
      "cell_type": "code",
      "source": [
        "#Evaluation\n"
      ],
      "metadata": {
        "id": "N3-kBHrR4g-W"
      },
      "execution_count": null,
      "outputs": []
    },
    {
      "cell_type": "code",
      "source": [
        "#Amelioration ?\n"
      ],
      "metadata": {
        "id": "GjBxolSM4jjV"
      },
      "execution_count": null,
      "outputs": []
    },
    {
      "cell_type": "markdown",
      "source": [
        "#### Exercice 2"
      ],
      "metadata": {
        "id": "74bKH1UCd8uW"
      }
    },
    {
      "cell_type": "markdown",
      "source": [
        "Faire des statistiques descriptives sur les datas « Boston » du framework scikit-learn.<br>\n",
        "Appliquez une régression linéaire sur ces datas pour predire la médiane des maisons occupées par leur propriétaire.\n",
        "<br>\n",
        "Commencez par utiliser le code suivant pour afficher une description détaillé de la dataset :"
      ],
      "metadata": {
        "id": "16-0XtyvfLPh"
      }
    },
    {
      "cell_type": "code",
      "source": [
        "data = datasets.load_boston()\n",
        "print(data.DESCR)"
      ],
      "metadata": {
        "id": "fSuu93WlfMAH"
      },
      "execution_count": null,
      "outputs": []
    },
    {
      "cell_type": "code",
      "source": [
        "#chargement des donnees X \n",
        "df = pd.DataFrame(data.data, columns = data.feature_names)\n",
        "#Ajout des donnees Y\n",
        "df['MEDV'] = data.target\n",
        "#Affichage des 5 premieres lignes des donnees\n",
        "df.head()"
      ],
      "metadata": {
        "id": "JgkxJin6fvH6"
      },
      "execution_count": null,
      "outputs": []
    },
    {
      "cell_type": "code",
      "source": [
        "#Statistiques descriptives\n"
      ],
      "metadata": {
        "id": "YsN3aEdxpOZM"
      },
      "execution_count": null,
      "outputs": []
    },
    {
      "cell_type": "code",
      "source": [
        "# liste des regresseurs \n"
      ],
      "metadata": {
        "id": "cC8BS4z6AhW2"
      },
      "execution_count": null,
      "outputs": []
    },
    {
      "cell_type": "code",
      "source": [
        "#Matrices Y et X\n",
        "\n",
        "#instanciation\n",
        "\n",
        "#apprentissage\n",
        "\n",
        "#resultats\n",
        "\n",
        "#Equation de regression\n",
        "\n",
        "\n",
        "#evaluation\n",
        "\n",
        "#Amelioration ?"
      ],
      "metadata": {
        "id": "AAtQ-YlhoXQd"
      },
      "execution_count": null,
      "outputs": []
    },
    {
      "cell_type": "markdown",
      "source": [
        "On veut prédire la médiane des maisons occupées par leur propriétaire en se limitant à 3 régresseurs lesquels choisir."
      ],
      "metadata": {
        "id": "L-psjtsEyjB_"
      }
    },
    {
      "cell_type": "code",
      "source": [
        ""
      ],
      "metadata": {
        "id": "PRZyUs3Uy5UQ"
      },
      "execution_count": null,
      "outputs": []
    },
    {
      "cell_type": "markdown",
      "source": [
        "#### Exercice ANOVA"
      ],
      "metadata": {
        "id": "FqMHxnVDVTbU"
      }
    },
    {
      "cell_type": "code",
      "source": [
        "iris.head()"
      ],
      "metadata": {
        "id": "AoOjz7iYWND1"
      },
      "execution_count": null,
      "outputs": []
    },
    {
      "cell_type": "code",
      "source": [
        "#Matrices Y et X\n",
        "\n",
        "#instanciation\n",
        "\n",
        "#apprentissage\n",
        "\n",
        "#resultats\n",
        "\n",
        "#Equation de regression\n",
        "\n",
        "#evaluation\n",
        "\n",
        "#Amelioration ?"
      ],
      "metadata": {
        "id": "SDC8H780hOK2"
      },
      "execution_count": null,
      "outputs": []
    },
    {
      "cell_type": "markdown",
      "source": [
        "#### Exercice 3"
      ],
      "metadata": {
        "id": "v1lYqyYod6n-"
      }
    },
    {
      "cell_type": "markdown",
      "source": [
        "Créer une variable a expliqué : Âge (aléatoirement)\n",
        "<br>\n",
        "Créer un jeu de données random, avec 4 régresseurs : \n",
        "- musique (rap,classique,pop)\n",
        "- Lunette (port de lunettes ou non)\n",
        "<br>\n",
        "\n",
        "Maintenant prédire l'âge."
      ],
      "metadata": {
        "id": "UC0gWaAKlkVD"
      }
    },
    {
      "cell_type": "code",
      "source": [
        "import random as rd\n",
        "\n"
      ],
      "metadata": {
        "id": "QfjI7hGZgFWn"
      },
      "execution_count": null,
      "outputs": []
    },
    {
      "cell_type": "code",
      "source": [
        "#ANOVA\n",
        "# Matrice Y, X, Beta et M =X*B (Sur feuille)\n",
        "# Attention rang plein de X\n"
      ],
      "metadata": {
        "id": "HgNELLi7f0uz"
      },
      "execution_count": null,
      "outputs": []
    },
    {
      "cell_type": "code",
      "source": [
        ""
      ],
      "metadata": {
        "id": "XgKjKLqNHTvY"
      },
      "execution_count": null,
      "outputs": []
    },
    {
      "cell_type": "markdown",
      "source": [
        "#### Exercice 4"
      ],
      "metadata": {
        "id": "h2kaZCzCeAbm"
      }
    },
    {
      "cell_type": "markdown",
      "source": [
        "On souhaite étudier les effets de 3 traitements (AX23, BWW9 et Contrôle) sur le\n",
        "rythme cardiaque chez les patients âgés de 50 à 85 ans, souffrant d’une maladie cardiaque appelée\n",
        "hypertrophie ventriculaire gauche. Après que le médicament a été administré, le rythme cardiaque\n",
        "après 2h est mesuré. Il y a 4 personnes par traitement."
      ],
      "metadata": {
        "id": "qXwq8BqHtPL0"
      }
    },
    {
      "cell_type": "markdown",
      "source": [
        "1. Comment predire avec un modele ANOVA le rythme cardiaque 2h après avoir pris le traitement ?\n",
        "<br>\n",
        "SUR FEUILLE :<br>\n",
        "On fait le choix que la somme des paramètres vaut zéro.\n",
        "*  Donner Y\n",
        "*  Donner X\n",
        "*  Donner l'expression Yjk"
      ],
      "metadata": {
        "id": "A6SU311DtUBH"
      }
    },
    {
      "cell_type": "code",
      "source": [
        "# Ecrire le script pour créer le modèle ANOVA (dans le cas où l'ont aurais eu les data)\n",
        "\n"
      ],
      "metadata": {
        "id": "afDuL5WPtkLu"
      },
      "execution_count": null,
      "outputs": []
    },
    {
      "cell_type": "markdown",
      "source": [
        "2. Comment predire avec un modele ANCOVA le rythme cardiaque 2h après avoir pris le traitement ?\n",
        "<br>\n",
        "SUR FEUILLE :<br>\n",
        "Modèle sans interaction\n",
        "*  Donner Y\n",
        "*  Donner X\n",
        "*  Donner l'expression Yjk"
      ],
      "metadata": {
        "id": "J4iOtUlbtUUO"
      }
    },
    {
      "cell_type": "code",
      "source": [
        "# Ecrire le script pour créer le modèle ANCOVA (dans le cas où l'ont aurais eu les data)\n",
        "\n"
      ],
      "metadata": {
        "id": "x-JtUnXpLeBz"
      },
      "execution_count": null,
      "outputs": []
    },
    {
      "cell_type": "markdown",
      "source": [
        "3. Comment predire avec un modele ANCOVA le rythme cardiaque 2h après avoir pris le traitement ?\n",
        "<br>\n",
        "SUR FEUILLE :<br>\n",
        "Modèle avec interaction\n",
        "*  Donner Y\n",
        "*  Donner X\n",
        "*  Donner l'expression Yjk"
      ],
      "metadata": {
        "id": "zw1oh8-3u9q8"
      }
    },
    {
      "cell_type": "code",
      "source": [
        "#Ecrire le script pour créer le modèle avec interaction \n"
      ],
      "metadata": {
        "id": "WeIDIwU8NRq7"
      },
      "execution_count": null,
      "outputs": []
    },
    {
      "cell_type": "markdown",
      "source": [
        "#### Exercice 5"
      ],
      "metadata": {
        "id": "kHJMTWD7eAlr"
      }
    },
    {
      "cell_type": "markdown",
      "source": [
        "Créer une variable a expliqué : Âge (aléatoirement)\n",
        "<br>\n",
        "Créer un jeu de données random, avec 6 variables : \n",
        "- musique (pourcentage de musique écoute par jour)\n",
        "- taille (en cm)\n",
        "- Lunette (port de lunettes ou non)\n",
        "- Niveau d'etude (sans_diplome, brevet, bac, bac+2, bac+3,bac+5)\n",
        "- À vous d'en inventer une variable quantitative et une qualitative\n",
        "<br>\n",
        "\n",
        "Maintenant prédire l'âge.\n",
        "Quel modele est le plus adapté et pourquoi ?\n",
        "Préciser la méthode choisie."
      ],
      "metadata": {
        "id": "U3qkSgQkgk1H"
      }
    },
    {
      "cell_type": "code",
      "source": [
        "import random as rd\n",
        "\n",
        "n = 1000\n",
        "age = \n",
        "#print(age)\n",
        "\n",
        "musique = \n",
        "#print(musique)\n",
        "\n",
        "taille = \n",
        "#print(taille)\n",
        "\n",
        "lunette = \n",
        "#print(lunette)\n",
        "\n",
        "niv_etude = \n",
        "#print(niv_etude)\n",
        "\n",
        "df =   \n",
        " \n",
        "df.head()"
      ],
      "metadata": {
        "id": "5Dcu3s553lgn"
      },
      "execution_count": null,
      "outputs": []
    },
    {
      "cell_type": "code",
      "source": [
        "# VARIABLES QUANT\n",
        "\n",
        "\n",
        "# VARIABLES QUAL\n",
        "\n",
        "\n",
        "# VARIABLES QUANT ET QUAL sans interac\n",
        "\n",
        "# VARIABLES QUANT ET QUAL avec interac\n"
      ],
      "metadata": {
        "id": "89kXkKop4fLc"
      },
      "execution_count": null,
      "outputs": []
    },
    {
      "cell_type": "markdown",
      "source": [
        "#### Exercice 6 : State crime"
      ],
      "metadata": {
        "id": "IenAeUa_QXIC"
      }
    },
    {
      "cell_type": "markdown",
      "source": [
        "INFOS DATASET :<br>\n",
        "![statecrime.png](data:image/png;base64,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)"
      ],
      "metadata": {
        "id": "DHdSHE2MWDRL"
      }
    },
    {
      "cell_type": "code",
      "source": [
        "#Predire le taux de meurtres\n",
        "statecrime = sm.datasets.statecrime.load_pandas().data\n",
        "statecrime.head()"
      ],
      "metadata": {
        "id": "uhNyulfkWOxc"
      },
      "execution_count": null,
      "outputs": []
    },
    {
      "cell_type": "code",
      "source": [
        ""
      ],
      "metadata": {
        "id": "j6awSIpLLagF"
      },
      "execution_count": null,
      "outputs": []
    },
    {
      "cell_type": "code",
      "source": [
        ""
      ],
      "metadata": {
        "id": "i9c52OmZViTB"
      },
      "execution_count": null,
      "outputs": []
    },
    {
      "cell_type": "markdown",
      "source": [
        "#### Exercice 7 : Ducan"
      ],
      "metadata": {
        "id": "s7JiMlQCQW7M"
      }
    },
    {
      "cell_type": "markdown",
      "source": [
        "Predire \"prestige\""
      ],
      "metadata": {
        "id": "YQd3tWmEcZ8U"
      }
    },
    {
      "cell_type": "code",
      "source": [
        "duncan = sm.datasets.get_rdataset(\"Duncan\", \"carData\")\n",
        "print(duncan.__doc__)"
      ],
      "metadata": {
        "id": "9NzXeIK7b4U7"
      },
      "execution_count": null,
      "outputs": []
    },
    {
      "cell_type": "code",
      "source": [
        "df = duncan.data\n",
        "df.head()"
      ],
      "metadata": {
        "id": "of0pd4_uRx9B"
      },
      "execution_count": null,
      "outputs": []
    },
    {
      "cell_type": "code",
      "source": [
        ""
      ],
      "metadata": {
        "id": "DZgft2QyveRP"
      },
      "execution_count": null,
      "outputs": []
    },
    {
      "cell_type": "markdown",
      "source": [
        "#### Exercice 8 : Travel choice"
      ],
      "metadata": {
        "id": "NawXB6ziQXP9"
      }
    },
    {
      "cell_type": "markdown",
      "source": [
        "Comprendre le dataset : https://www.statsmodels.org/dev/datasets/generated/modechoice.html"
      ],
      "metadata": {
        "id": "6N1gyouPfbUv"
      }
    },
    {
      "cell_type": "code",
      "source": [
        "data = sm.datasets.modechoice.load_pandas()\n",
        "modechoice = data.data\n",
        "modechoice.head()"
      ],
      "metadata": {
        "id": "_Uaui6TnfaYw"
      },
      "execution_count": null,
      "outputs": []
    },
    {
      "cell_type": "code",
      "source": [
        ""
      ],
      "metadata": {
        "id": "LkMiceoOf18V"
      },
      "execution_count": null,
      "outputs": []
    },
    {
      "cell_type": "code",
      "source": [
        ""
      ],
      "metadata": {
        "id": "G_-mZQtEgDjF"
      },
      "execution_count": null,
      "outputs": []
    },
    {
      "cell_type": "markdown",
      "source": [
        "#### Exercice 9 : Titanic"
      ],
      "metadata": {
        "id": "TOWmP5uWQXc7"
      }
    },
    {
      "cell_type": "code",
      "source": [
        "titanic = data('titanic')\n",
        "titanic.rename(columns={'class':'clas'}, inplace = True)\n",
        "# remplacer yes et no par un binaire dans survived\n",
        "\n",
        "titanic.head()"
      ],
      "metadata": {
        "id": "yMUF6LKThIgA"
      },
      "execution_count": null,
      "outputs": []
    },
    {
      "cell_type": "code",
      "source": [
        "# VARIABLES QUAL sans interac\n"
      ],
      "metadata": {
        "id": "py30J1fEhu1W"
      },
      "execution_count": null,
      "outputs": []
    },
    {
      "cell_type": "code",
      "source": [
        "# VARIABLES QUAL avec interac\n",
        "\n"
      ],
      "metadata": {
        "id": "ATNVREF4jaIE"
      },
      "execution_count": null,
      "outputs": []
    }
  ]
}